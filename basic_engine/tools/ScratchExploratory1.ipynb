{
 "cells": [
  {
   "cell_type": "code",
   "execution_count": 1,
   "metadata": {
    "collapsed": true
   },
   "outputs": [],
   "source": [
    "import os, sys"
   ]
  },
  {
   "cell_type": "code",
   "execution_count": 23,
   "metadata": {
    "collapsed": true
   },
   "outputs": [],
   "source": [
    "import random, json"
   ]
  },
  {
   "cell_type": "code",
   "execution_count": 2,
   "metadata": {
    "collapsed": true
   },
   "outputs": [],
   "source": [
    "from matplotlib import pyplot as plt"
   ]
  },
  {
   "cell_type": "code",
   "execution_count": 3,
   "metadata": {
    "collapsed": true
   },
   "outputs": [],
   "source": [
    "%matplotlib inline"
   ]
  },
  {
   "cell_type": "code",
   "execution_count": 5,
   "metadata": {},
   "outputs": [
    {
     "data": {
      "text/plain": [
       "<matplotlib.collections.PathCollection at 0x698c0d0>"
      ]
     },
     "execution_count": 5,
     "metadata": {},
     "output_type": "execute_result"
    },
    {
     "data": {
      "image/png": "[encoded data removed]",
      "text/plain": [
       "<matplotlib.figure.Figure at 0x40e4670>"
      ]
     },
     "metadata": {},
     "output_type": "display_data"
    }
   ],
   "source": [
    "plt.scatter(x = [random.uniform(1,10) for i in range(10)]\n",
    "           ,y = [random.uniform(1,10) for i in range(10)])"
   ]
  },
  {
   "cell_type": "code",
   "execution_count": 12,
   "metadata": {},
   "outputs": [],
   "source": [
    "from db_module import TasPerfDB\n",
    "from schema_module import TimeAnalysisSchema"
   ]
  },
  {
   "cell_type": "code",
   "execution_count": 13,
   "metadata": {},
   "outputs": [],
   "source": [
    "db = TasPerfDB()\n",
    "tas = TimeAnalysisSchema()"
   ]
  },
  {
   "cell_type": "code",
   "execution_count": 63,
   "metadata": {
    "collapsed": true
   },
   "outputs": [],
   "source": [
    "import sqlite3"
   ]
  },
  {
   "cell_type": "code",
   "execution_count": 73,
   "metadata": {},
   "outputs": [
    {
     "name": "stdout",
     "output_type": "stream",
     "text": [
      "[(u'GarryKasparovGames.txt-77', u'{\"meta_analysis\": {\"analysis_type\": \"analysis2\", \"algo_style\": \"naive_yk\"}, \"log\": {\"s_instructions\": \"1. e4 c5 2. Nf3 d6 3. d4 cxd4 4. Nxd4 Nf6 5. Nc3 a6 6. Be3 e6 7. g4 h6 8. f4 e5 9. Nf5 Nc6 10. Qf3 g6 11. O-O-O gxf5 12. exf5 e4 13. Nxe4 Nxe4 14. Qxe4+ Qe7 15. Qd3 Bg7 16. Bd2 O-O 17. g5 hxg5 18. fxg5 Qe5 19. f6 Bf5 20. Qg3 Rfc8 21. Bc3 Nb4 22. Bxe5 Rxc2+ 23. Kb\n"
     ]
    }
   ],
   "source": [
    "data_input = []\n",
    "\n",
    "conn = sqlite3.connect(\"../data/perf/perf_db.db\")\n",
    "c = conn.cursor()\n",
    "\n",
    "_games = [    \"GarryKasparovGames.txt-77\"\n",
    "             ,\"GarryKasparovGames.txt-78\"\n",
    "             ,\"GarryKasparovGames.txt-77\"\n",
    "        ]\n",
    "\n",
    "for gameId in _games:\n",
    "\n",
    "    c.execute(\"select * from basic_tas where id = ?\", (gameId,))\n",
    "    ret = c.fetchall()\n",
    "    data_input.append(ret[0])\n",
    "\n",
    "conn.close()\n",
    "print str(data_input)[:400]\n"
   ]
  },
  {
   "cell_type": "code",
   "execution_count": 74,
   "metadata": {},
   "outputs": [
    {
     "data": {
      "text/plain": [
       "2"
      ]
     },
     "execution_count": 74,
     "metadata": {},
     "output_type": "execute_result"
    }
   ],
   "source": [
    "len (data_input[0])"
   ]
  },
  {
   "cell_type": "code",
   "execution_count": 69,
   "metadata": {},
   "outputs": [],
   "source": [
    "db.closeConn()"
   ]
  },
  {
   "cell_type": "code",
   "execution_count": 10,
   "metadata": {
    "collapsed": true
   },
   "outputs": [],
   "source": [
    "basic_tbl = db.select_all_basic()"
   ]
  },
  {
   "cell_type": "code",
   "execution_count": 11,
   "metadata": {},
   "outputs": [
    {
     "data": {
      "text/plain": [
       "10"
      ]
     },
     "execution_count": 11,
     "metadata": {},
     "output_type": "execute_result"
    }
   ],
   "source": [
    "len(basic_tbl)"
   ]
  },
  {
   "cell_type": "code",
   "execution_count": 19,
   "metadata": {},
   "outputs": [
    {
     "name": "stdout",
     "output_type": "stream",
     "text": [
      "(u'GarryKasparovGames.txt-2', u'{\"meta_analysis\": {\"analysis_type\": \"analysis2\", \"algo_style\": \"opt_yk\"}, \"log\": {\"s_instructions\": \"1. d4 d5 2. c4 c6 3. Nf3 Nf6 4. Nc3 e6 5. Bg5 Nbd7 6. e3 Qa5 7. Nd2 Bb4 8. Qc2 O-O 9. Be2 e5 10. O-O exd4 11. Nb3 Qb6 12. exd4 dxc4 13. Bxc4 a5 14. a4 Qc7 15. Rae1 h6 16. Bh4 Bd6 17. h3 Nb6 18. Bxf6 Nxc4 19. Ne4 Bh2+ 20. Kh1 Nd6 21. Kxh2 Nxe4+ 22. Be5 Nd6 23. Qc5 Rd8 24. d5 Qd7 25. Nd4 Nf5 26. dxc6 bxc6 27. Nxc6 Re8 28. Rd1 Qe6 29. Rfe1 Bb7 30. Nd4 Nxd4 31. Qxd4 Qg6 32. Qg4 Qxg4 33. hxg4 Bc6 34. b3 f6 35. Bc3 Rxe1 36. Rxe1 Bd5 37. Rb1 Kf7 38. Kg3 Rb8 39. b4 axb4 40. Bxb4 Bc4 41. a5 Ba6 42. f3 Kg6 43. Kf4 h5 44. gxh5+ Kxh5 45. Rh1+ Kg6 46. Bc5 Rb2 47. Kg3 Ra2 48. Bb6 Kf7 49. Rc1 g5 50. Rc7+ Kg6 51. Rc6 Bf1 52. Bf2 \\\\n\", \"num_available\": [20, 20, 27, 28, 30, 29, 32, 31, 35, 32, 39, 30, 34, 37, 41, 40, 46, 35, 53, 35, 51, 37, 50, 31, 50, 31, 53, 30, 53, 34, 55, 35, 50, 33, 49, 32, 46, 38, 1, 40, 41, 29, 5, 35, 42, 29, 40, 31, 44, 28, 49, 28, 48, 32, 50, 35, 55, 32, 57, 43, 48, 42, 44, 40, 34, 27, 35, 28, 35, 32, 27, 24, 31, 24, 26, 27, 25, 32, 26, 29, 27, 28, 25, 26, 24, 22, 23, 4, 23, 1, 28, 23, 31, 24, 31, 21, 28, 26, 26, 5, 24, 24, 23], \"num_player_pieces\": [16, 16, 16, 16, 16, 16, 16, 16, 16, 16, 16, 16, 16, 16, 16, 16, 16, 16, 16, 16, 15, 16, 15, 15, 14, 14, 14, 14, 14, 14, 14, 14, 14, 14, 14, 13, 13, 13, 13, 13, 13, 12, 12, 12, 12, 12, 12, 12, 12, 12, 12, 11, 11, 10, 11, 10, 11, 10, 11, 10, 10, 9, 10, 9, 9, 8, 9, 8, 9, 8, 8, 7, 8, 7, 8, 7, 8, 7, 7, 6, 7, 6, 7, 6, 7, 6, 7, 5, 6, 5, 6, 5, 6, 5, 6, 5, 6, 5, 6, 5, 6, 5, 6]}, \"trials\": [{\"trial_data\": [0.0, 0.0074999332427978516, 0.008000016212463379, 0.0, 0.0, 0.0, 0.008000016212463379, 0.0, 0.007999897003173828, 0.007500052452087402, 0.008000016212463379, 0.0, 0.0, 0.0, 0.008000016212463379, 0.007500052452087402, 0.0, 0.0, 0.015999913215637207, 0.0, 0.0, 0.0, 0.0, 0.0, 0.0074999332427978516, 0.007500052452087402, 0.0, 0.0, 0.0, 0.008000016212463379, 0.008000016212463379, 0.0, 0.0, 0.0, 0.0, 0.008000016212463379, 0.007500052452087402, 0.0, 0.0, 0.0, 0.0, 0.0074999332427978516, 0.008000016212463379, 0.0, 0.0, 0.0, 0.0, 0.0, 0.015999913215637207, 0.0, 0.0, 0.0, 0.0, 0.0, 0.0, 0.015500068664550781, 0.0, 0.0, 0.008000016212463379, 0.0, 0.0, 0.007500052452087402, 0.0, 0.0, 0.0074999332427978516, 0.0, 0.0, 0.0, 0.007999897003173828, 0.0, 0.0, 0.008000016212463379, 0.0, 0.0, 0.0, 0.007500052452087402, 0.0, 0.0, 0.008000016212463379, 0.0, 0.0, 0.0, 0.008000016212463379, 0.0, 0.0, 0.007500052452087402, 0.0, 0.0, 0.008000016212463379, 0.0, 0.008000016212463379, 0.0, 0.0, 0.0, 0.0074999332427978516, 0.0, 0.007999897003173828, 0.0, 0.0, 0.0, 0.0, 0.008000016212463379, 0.0], \"trial_meta\": {\"data_time_run\": 1529856736.657, \"N\": 2}}, {\"trial_data\": [0.0074999332427978516, 0.0, 0.0, 0.0\n"
     ]
    }
   ],
   "source": [
    "print(  str(basic_tbl[0])[:2800] )"
   ]
  },
  {
   "cell_type": "code",
   "execution_count": 87,
   "metadata": {},
   "outputs": [
    {
     "name": "stdout",
     "output_type": "stream",
     "text": [
      "20\n"
     ]
    }
   ],
   "source": [
    "\n",
    "\n",
    "N = 50\n",
    "ALGO_STYLE = \"naive_yk\"\n",
    "ALGO_STYLE = \"opt_yk\"\n",
    "data = []\n",
    "# data2 = []\n",
    "\n",
    "for record in basic_tbl:\n",
    "# for record in data_input:\n",
    "    \n",
    "    _gameId = record[0]\n",
    "    _tas = json.loads(record[1])\n",
    "    _algo_style = _tas['meta_analysis']['algo_style']\n",
    "    \n",
    "    for trial in _tas['trials']:\n",
    "    \n",
    "        _n = trial['trial_meta']['N']\n",
    "        \n",
    "        if _n >= N and \\\n",
    "            _algo_style == ALGO_STYLE:\n",
    "            \n",
    "            _temp = [\n",
    "                    _gameId\n",
    "                    ,_n\n",
    "                    ,trial['trial_data']\n",
    "                    ,_tas['log']['num_available']\n",
    "                    ,_tas['log']['num_player_pieces']\n",
    "                    ]\n",
    "            \n",
    "            data.append(_temp)\n",
    "\n",
    "print len(data)\n",
    "        \n",
    "        "
   ]
  },
  {
   "cell_type": "code",
   "execution_count": 76,
   "metadata": {},
   "outputs": [
    {
     "data": {
      "text/plain": [
       "[[u'GarryKasparovGames.txt-77',\n",
       "  30,\n",
       "  [0.023799999554951986,\n",
       "   0.02349999745686849,\n",
       "   0.0340666929880778,\n",
       "   0.02536664009094238,\n",
       "   0.03163332144419352,\n",
       "   0.03636667728424072,\n",
       "   0.04386670589447021,\n",
       "   0.029633315404256184,\n",
       "   0.045766631762186684,\n",
       "   0.03606669902801514,\n",
       "   0.04856666723887126,\n",
       "   0.03336666425069173,\n",
       "   0.04760000705718994,\n",
       "   0.03233331839243571,\n",
       "   0.047300012906392415,\n",
       "   0.032833313941955565,\n",
       "   0.04686667919158936,\n",
       "   0.033633335431416826,\n",
       "   0.0536666472752889,\n",
       "   0.04093333880106608,\n",
       "   0.05463333129882812,\n",
       "   0.03700001239776611,\n",
       "   0.048866677284240725,\n",
       "   0.03879997730255127,\n",
       "   0.04459998607635498,\n",
       "   0.03750001589457194,\n",
       "   0.03993335564931234,\n",
       "   0.02903329531351725,\n",
       "   0.04610002835591634,\n",
       "   0.034366663297017416,\n",
       "   0.03623332182566325,\n",
       "   0.0458666721979777,\n",
       "   0.0350333293279012,\n",
       "   0.04370001157124837,\n",
       "   0.03320001761118571,\n",
       "   0.036899964014689125,\n",
       "   0.032200018564860024,\n",
       "   0.04246664841969808,\n",
       "   0.03350002765655517,\n",
       "   0.04573333263397217,\n",
       "   0.037433314323425296,\n",
       "   0.04333337148030599,\n",
       "   0.03436664740244547,\n",
       "   0.033900006612141924,\n",
       "   0.03136665821075439,\n",
       "   0.03519998391469319,\n",
       "   0.026433356602986655,\n",
       "   0.0365999698638916,\n",
       "   0.024266664187113443,\n",
       "   0.034600011507670086],\n",
       "  [20,\n",
       "   20,\n",
       "   30,\n",
       "   22,\n",
       "   28,\n",
       "   30,\n",
       "   37,\n",
       "   28,\n",
       "   42,\n",
       "   31,\n",
       "   43,\n",
       "   30,\n",
       "   46,\n",
       "   28,\n",
       "   45,\n",
       "   29,\n",
       "   44,\n",
       "   30,\n",
       "   50,\n",
       "   35,\n",
       "   51,\n",
       "   36,\n",
       "   43,\n",
       "   36,\n",
       "   42,\n",
       "   35,\n",
       "   38,\n",
       "   6,\n",
       "   45,\n",
       "   33,\n",
       "   37,\n",
       "   44,\n",
       "   36,\n",
       "   41,\n",
       "   36,\n",
       "   40,\n",
       "   37,\n",
       "   44,\n",
       "   38,\n",
       "   52,\n",
       "   41,\n",
       "   50,\n",
       "   40,\n",
       "   38,\n",
       "   1,\n",
       "   44,\n",
       "   4,\n",
       "   44,\n",
       "   1,\n",
       "   41]],\n",
       " [u'GarryKasparovGames.txt-78',\n",
       "  30,\n",
       "  [0.023833330472310385,\n",
       "   0.023166664441426597,\n",
       "   0.026466647783915203,\n",
       "   0.025933361053466795,\n",
       "   0.02906665802001953,\n",
       "   0.02590000629425049,\n",
       "   0.03133331934611003,\n",
       "   0.030066665013631186,\n",
       "   0.03463331858317057,\n",
       "   0.04136669635772705,\n",
       "   0.04389998118082682,\n",
       "   0.037933349609375,\n",
       "   0.042266678810119626,\n",
       "   0.03653333187103271,\n",
       "   0.046599992116292316,\n",
       "   0.03756667772928874,\n",
       "   0.04823331038157145,\n",
       "   0.03633333047231038,\n",
       "   0.04556667009989421,\n",
       "   0.03463335037231445,\n",
       "   0.041733320554097494,\n",
       "   0.040600005785624185,\n",
       "   0.04673331578572591,\n",
       "   0.03560002644856771,\n",
       "   0.0388666311899821,\n",
       "   0.0345000425974528,\n",
       "   0.03636666933695475,\n",
       "   0.04213331540425618,\n",
       "   0.034566672643025716,\n",
       "   0.038666669527689615,\n",
       "   0.04209997653961182,\n",
       "   0.04733333587646484,\n",
       "   0.04316666920979818,\n",
       "   0.04330000082651774,\n",
       "   0.04526666800181071,\n",
       "   0.04006666342417399,\n",
       "   0.047366666793823245,\n",
       "   0.03016668160756429,\n",
       "   0.04466666380564372,\n",
       "   0.035166660944620766,\n",
       "   0.03983333905537923,\n",
       "   0.03379997412363688,\n",
       "   0.04023335774739583,\n",
       "   0.02893332640329997,\n",
       "   0.029833332697550455,\n",
       "   0.027766688664754232,\n",
       "   0.019533308347066243,\n",
       "   0.028800002733866372,\n",
       "   0.01833334763844808,\n",
       "   0.024233301480611164,\n",
       "   0.017366695404052734,\n",
       "   0.023166664441426597,\n",
       "   0.013433361053466797,\n",
       "   0.01743327776590983,\n",
       "   0.013666685422261555,\n",
       "   0.018933335940043133,\n",
       "   0.015666683514912922,\n",
       "   0.02503332297007243,\n",
       "   0.019333330790201823,\n",
       "   0.01616665522257487,\n",
       "   0.02116669019063314,\n",
       "   0.022866654396057128,\n",
       "   0.01593333085378011,\n",
       "   0.01726667086283366,\n",
       "   0.01573331356048584,\n",
       "   0.019566679000854494,\n",
       "   0.01269999345143636,\n",
       "   0.01816670099894206,\n",
       "   0.01530000368754069,\n",
       "   0.014999977747599284,\n",
       "   0.011133305231730143,\n",
       "   0.011600033442179362,\n",
       "   0.006233318646748861,\n",
       "   0.009300025304158528,\n",
       "   0.006199979782104492,\n",
       "   0.008466657002766926,\n",
       "   0.0060333331425984705,\n",
       "   0.01013334592183431,\n",
       "   0.006599982579549153,\n",
       "   0.00950000286102295,\n",
       "   0.007900007565816243,\n",
       "   0.010433324178059896,\n",
       "   0.006366666158040365,\n",
       "   0.010400009155273438,\n",
       "   0.006066679954528809,\n",
       "   0.010733342170715332,\n",
       "   0.007566666603088379,\n",
       "   0.009333340326944987],\n",
       "  [20,\n",
       "   20,\n",
       "   22,\n",
       "   22,\n",
       "   24,\n",
       "   23,\n",
       "   28,\n",
       "   26,\n",
       "   31,\n",
       "   34,\n",
       "   38,\n",
       "   32,\n",
       "   38,\n",
       "   32,\n",
       "   40,\n",
       "   33,\n",
       "   41,\n",
       "   31,\n",
       "   37,\n",
       "   32,\n",
       "   35,\n",
       "   36,\n",
       "   39,\n",
       "   32,\n",
       "   34,\n",
       "   34,\n",
       "   34,\n",
       "   40,\n",
       "   33,\n",
       "   39,\n",
       "   40,\n",
       "   43,\n",
       "   42,\n",
       "   44,\n",
       "   42,\n",
       "   41,\n",
       "   47,\n",
       "   5,\n",
       "   46,\n",
       "   38,\n",
       "   43,\n",
       "   36,\n",
       "   43,\n",
       "   1,\n",
       "   33,\n",
       "   27,\n",
       "   24,\n",
       "   33,\n",
       "   20,\n",
       "   33,\n",
       "   20,\n",
       "   29,\n",
       "   20,\n",
       "   4,\n",
       "   19,\n",
       "   30,\n",
       "   22,\n",
       "   31,\n",
       "   27,\n",
       "   2,\n",
       "   28,\n",
       "   28,\n",
       "   21,\n",
       "   1,\n",
       "   23,\n",
       "   25,\n",
       "   20,\n",
       "   25,\n",
       "   20,\n",
       "   3,\n",
       "   12,\n",
       "   18,\n",
       "   11,\n",
       "   19,\n",
       "   12,\n",
       "   3,\n",
       "   13,\n",
       "   19,\n",
       "   12,\n",
       "   18,\n",
       "   12,\n",
       "   18,\n",
       "   13,\n",
       "   16,\n",
       "   11,\n",
       "   18,\n",
       "   15,\n",
       "   20]],\n",
       " [u'GarryKasparovGames.txt-77',\n",
       "  30,\n",
       "  [0.023799999554951986,\n",
       "   0.02349999745686849,\n",
       "   0.0340666929880778,\n",
       "   0.02536664009094238,\n",
       "   0.03163332144419352,\n",
       "   0.03636667728424072,\n",
       "   0.04386670589447021,\n",
       "   0.029633315404256184,\n",
       "   0.045766631762186684,\n",
       "   0.03606669902801514,\n",
       "   0.04856666723887126,\n",
       "   0.03336666425069173,\n",
       "   0.04760000705718994,\n",
       "   0.03233331839243571,\n",
       "   0.047300012906392415,\n",
       "   0.032833313941955565,\n",
       "   0.04686667919158936,\n",
       "   0.033633335431416826,\n",
       "   0.0536666472752889,\n",
       "   0.04093333880106608,\n",
       "   0.05463333129882812,\n",
       "   0.03700001239776611,\n",
       "   0.048866677284240725,\n",
       "   0.03879997730255127,\n",
       "   0.04459998607635498,\n",
       "   0.03750001589457194,\n",
       "   0.03993335564931234,\n",
       "   0.02903329531351725,\n",
       "   0.04610002835591634,\n",
       "   0.034366663297017416,\n",
       "   0.03623332182566325,\n",
       "   0.0458666721979777,\n",
       "   0.0350333293279012,\n",
       "   0.04370001157124837,\n",
       "   0.03320001761118571,\n",
       "   0.036899964014689125,\n",
       "   0.032200018564860024,\n",
       "   0.04246664841969808,\n",
       "   0.03350002765655517,\n",
       "   0.04573333263397217,\n",
       "   0.037433314323425296,\n",
       "   0.04333337148030599,\n",
       "   0.03436664740244547,\n",
       "   0.033900006612141924,\n",
       "   0.03136665821075439,\n",
       "   0.03519998391469319,\n",
       "   0.026433356602986655,\n",
       "   0.0365999698638916,\n",
       "   0.024266664187113443,\n",
       "   0.034600011507670086],\n",
       "  [20,\n",
       "   20,\n",
       "   30,\n",
       "   22,\n",
       "   28,\n",
       "   30,\n",
       "   37,\n",
       "   28,\n",
       "   42,\n",
       "   31,\n",
       "   43,\n",
       "   30,\n",
       "   46,\n",
       "   28,\n",
       "   45,\n",
       "   29,\n",
       "   44,\n",
       "   30,\n",
       "   50,\n",
       "   35,\n",
       "   51,\n",
       "   36,\n",
       "   43,\n",
       "   36,\n",
       "   42,\n",
       "   35,\n",
       "   38,\n",
       "   6,\n",
       "   45,\n",
       "   33,\n",
       "   37,\n",
       "   44,\n",
       "   36,\n",
       "   41,\n",
       "   36,\n",
       "   40,\n",
       "   37,\n",
       "   44,\n",
       "   38,\n",
       "   52,\n",
       "   41,\n",
       "   50,\n",
       "   40,\n",
       "   38,\n",
       "   1,\n",
       "   44,\n",
       "   4,\n",
       "   44,\n",
       "   1,\n",
       "   41]]]"
      ]
     },
     "execution_count": 76,
     "metadata": {},
     "output_type": "execute_result"
    }
   ],
   "source": [
    "data2"
   ]
  },
  {
   "cell_type": "code",
   "execution_count": 88,
   "metadata": {},
   "outputs": [
    {
     "data": {
      "image/png": "[encoded data removed]",
      "text/plain": [
       "<matplotlib.figure.Figure at 0x6ea3e50>"
      ]
     },
     "metadata": {},
     "output_type": "display_data"
    },
    {
     "data": {
      "image/png": "[encoded data removed]",
      "text/plain": [
       "<matplotlib.figure.Figure at 0x6f25af0>"
      ]
     },
     "metadata": {},
     "output_type": "display_data"
    },
    {
     "data": {
      "image/png": "[encoded data removed]",
      "text/plain": [
       "<matplotlib.figure.Figure at 0x6e61670>"
      ]
     },
     "metadata": {},
     "output_type": "display_data"
    }
   ],
   "source": [
    "epsilon = 0.001\n",
    "\n",
    "# for i in range(10):\n",
    "\n",
    "for i in range(3):\n",
    "\n",
    "    y_data0 = data[i][2]\n",
    "    x_data0 = data[i][4]  #num_pieces\n",
    "#     x_data0 = data[i][3]  #moves_avail\n",
    "#     x_data0 = [_[0] * _[1] for _ in zip(data2[i][3], data2[i][4])]\n",
    "\n",
    "    # plt.scatter(x = range(len(data0)), y=y_data0)\n",
    "    plt.scatter(x = x_data0 , y=y_data0)\n",
    "    plt.ylim(min(y_data0) - epsilon, max(y_data0) + epsilon)\n",
    "    plt.show()"
   ]
  },
  {
   "cell_type": "code",
   "execution_count": 82,
   "metadata": {},
   "outputs": [
    {
     "data": {
      "image/png": "[encoded data removed]",
      "text/plain": [
       "<matplotlib.figure.Figure at 0x7280a30>"
      ]
     },
     "metadata": {},
     "output_type": "display_data"
    },
    {
     "data": {
      "image/png": "[encoded data removed]",
      "text/plain": [
       "<matplotlib.figure.Figure at 0x72d4d50>"
      ]
     },
     "metadata": {},
     "output_type": "display_data"
    },
    {
     "data": {
      "image/png": "[encoded data removed]",
      "text/plain": [
       "<matplotlib.figure.Figure at 0x74b5690>"
      ]
     },
     "metadata": {},
     "output_type": "display_data"
    }
   ],
   "source": [
    "epsilon = 0.001\n",
    "\n",
    "# for i in range(10):\n",
    "\n",
    "for i in range(3):\n",
    "\n",
    "    y_data0 = data2[i][2]\n",
    "#     x_data0 = data2[i][4]  #num_pieces\n",
    "#     x_data0 = data2[i][3]  #moves_avail\n",
    "    x_data0 = [_[0] * _[1] for _ in zip(data2[i][3], data2[i][4])]\n",
    "\n",
    "    # plt.scatter(x = range(len(data0)), y=y_data0)\n",
    "    plt.scatter(x = x_data0 , y=y_data0)\n",
    "    plt.ylim(min(y_data0) - epsilon, max(y_data0) + epsilon)\n",
    "    plt.show()\n",
    "    # print 'max ' , str(max(y_data0)), ' min ', str(min(y_data0))"
   ]
  },
  {
   "cell_type": "code",
   "execution_count": 89,
   "metadata": {},
   "outputs": [
    {
     "data": {
      "image/png": "[encoded data removed]",
      "text/plain": [
       "<matplotlib.figure.Figure at 0x79292d0>"
      ]
     },
     "metadata": {},
     "output_type": "display_data"
    },
    {
     "data": {
      "image/png": "[encoded data removed]",
      "text/plain": [
       "<matplotlib.figure.Figure at 0x72091b0>"
      ]
     },
     "metadata": {},
     "output_type": "display_data"
    },
    {
     "data": {
      "image/png": "[encoded data removed]",
      "text/plain": [
       "<matplotlib.figure.Figure at 0x7c0d750>"
      ]
     },
     "metadata": {},
     "output_type": "display_data"
    }
   ],
   "source": [
    "epsilon = 0.001\n",
    "\n",
    "# for i in range(10):\n",
    "\n",
    "for i in range(3):\n",
    "\n",
    "    y_data0 = data2[i][2]\n",
    "    x_data0 = data2[i][4]  #num_pieces\n",
    "#     x_data0 = data2[i][3]  #moves_avail\n",
    "#     x_data0 = [_[0] * _[1] for _ in zip(data2[i][3], data2[i][4])]\n",
    "\n",
    "    # plt.scatter(x = range(len(data0)), y=y_data0)\n",
    "    plt.scatter(x = x_data0 , y=y_data0)\n",
    "    plt.ylim(min(y_data0) - epsilon, max(y_data0) + epsilon)\n",
    "    plt.show()\n",
    "    # print 'max ' , str(max(y_data0)), ' min ', str(min(y_data0))"
   ]
  },
  {
   "cell_type": "code",
   "execution_count": 45,
   "metadata": {},
   "outputs": [
    {
     "data": {
      "text/plain": [
       "[]"
      ]
     },
     "execution_count": 45,
     "metadata": {},
     "output_type": "execute_result"
    }
   ],
   "source": [
    "filter(lambda x: len(x[2]) != len(x[3]), data)"
   ]
  },
  {
   "cell_type": "code",
   "execution_count": 58,
   "metadata": {},
   "outputs": [
    {
     "name": "stdout",
     "output_type": "stream",
     "text": [
      "103\n",
      "103\n",
      "103\n",
      "103\n",
      "63\n",
      "63\n",
      "63\n",
      "63\n",
      "41\n",
      "41\n",
      "41\n",
      "41\n",
      "117\n",
      "117\n",
      "117\n",
      "117\n",
      "132\n",
      "132\n",
      "101\n",
      "101\n"
     ]
    }
   ],
   "source": [
    "for i in range(10):\n",
    "    print len(data[i][3])\n",
    "    print len(data[i][2])"
   ]
  },
  {
   "cell_type": "code",
   "execution_count": null,
   "metadata": {
    "collapsed": true
   },
   "outputs": [],
   "source": []
  }
 ],
 "metadata": {
  "kernelspec": {
   "display_name": "Python 2",
   "language": "python",
   "name": "python2"
  },
  "language_info": {
   "codemirror_mode": {
    "name": "ipython",
    "version": 2
   },
   "file_extension": ".py",
   "mimetype": "text/x-python",
   "name": "python",
   "nbconvert_exporter": "python",
   "pygments_lexer": "ipython2",
   "version": "2.7.13"
  }
 },
 "nbformat": 4,
 "nbformat_minor": 2
}
